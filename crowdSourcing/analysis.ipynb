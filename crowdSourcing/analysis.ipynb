{
 "cells": [
  {
   "cell_type": "code",
   "execution_count": 1,
   "metadata": {},
   "outputs": [],
   "source": [
    "import pandas as pd\n",
    "import matplotlib.pyplot as plt\n",
    "import re\n",
    "import numpy as np"
   ]
  },
  {
   "cell_type": "code",
   "execution_count": 4,
   "metadata": {},
   "outputs": [],
   "source": [
    "# load data\n",
    "data = pd.read_csv(\"admissionsData.csv\")\n",
    "languages = list(data[\"Language 1\"])\n",
    "total = len(languages)\n",
    "uniqueLangs = []\n",
    "counts = []\n",
    "for lang in languages:\n",
    "    if lang not in uniqueLangs:\n",
    "        uniqueLangs.append(lang)\n",
    "        counts.append(1)\n",
    "    else:\n",
    "        counts[uniqueLangs.index(lang)]+=1\n",
    "#plt.pie(counts,labels=uniqueLangs)\n",
    "#plt.show()\n",
    "\n",
    "# finds all langs spoken at home\n",
    "homeLangs1 = data[data[\"Language 1 Proficiency\"].str.contains(r\"Spoken at Home\",na=False)][[\"Language 1\",\"Language 1 Proficiency\"]]\n",
    "homeLangs2 = data[data[\"Language 2 Proficiency\"].str.contains(r\"Spoken at Home\",na=False)][[\"Language 2\",\"Language 2 Proficiency\"]]\n",
    "homeLangs3 = data[data[\"Language 3 Proficiency\"].str.contains(r\"Spoken at Home\",na=False)][[\"Language 3\",\"Language 3 Proficiency\"]]\n",
    "homeLangs4 = data[data[\"Language 4 Proficiency\"].str.contains(r\"Spoken at Home\",na=False)][[\"Language 4\",\"Language 4 Proficiency\"]]\n",
    "homeLangs5 = data[data[\"Language 5 Proficiency\"].str.contains(r\"Spoken at Home\",na=False)][[\"Language 5\",\"Language 5 Proficiency\"]]\n",
    "# num of total langs spoken at home\n",
    "totalHomeLangs = float(len(homeLangs1)+len(homeLangs2)+len(homeLangs3)+len(homeLangs4)+len(homeLangs5))\n",
    "\n",
    "\n",
    "# numbers of languages spoken at home\n",
    "homeCounts = []\n",
    "for lang in range(len(uniqueLangs)):\n",
    "    homeCounts.append(0)\n",
    "    homeCounts[lang]+= len(homeLangs1[homeLangs1[\"Language 1\"]==uniqueLangs[lang]])\n",
    "    homeCounts[lang]+= len(homeLangs2[homeLangs2[\"Language 2\"]==uniqueLangs[lang]])\n",
    "    homeCounts[lang]+= len(homeLangs3[homeLangs3[\"Language 3\"]==uniqueLangs[lang]])\n",
    "    homeCounts[lang]+= len(homeLangs4[homeLangs4[\"Language 4\"]==uniqueLangs[lang]])\n",
    "    homeCounts[lang]+= len(homeLangs5[homeLangs5[\"Language 5\"]==uniqueLangs[lang]])"
   ]
  },
  {
   "cell_type": "code",
   "execution_count": 7,
   "metadata": {},
   "outputs": [
    {
     "name": "stdout",
     "output_type": "stream",
     "text": [
      "1    0.315789\n",
      "Name: English, dtype: float64\n",
      "1    0.157895\n",
      "Name: Spanish, dtype: float64\n",
      "1    0.140351\n",
      "Name: Chinese, dtype: float64\n",
      "1    0.087719\n",
      "Name: Korean, dtype: float64\n",
      "1    0.017544\n",
      "Name: Arabic, dtype: float64\n",
      "1    0.017544\n",
      "Name: Portuguese, dtype: float64\n",
      "1    0.017544\n",
      "Name: Italian, dtype: float64\n",
      "1    0.052632\n",
      "Name: Chinglish, dtype: float64\n",
      "1    0.035088\n",
      "Name: Hindi, dtype: float64\n",
      "1    0.017544\n",
      "Name: Bambara, dtype: float64\n",
      "1    0.035088\n",
      "Name: Khmer, dtype: float64\n",
      "1    0.017544\n",
      "Name: Polish, dtype: float64\n",
      "1    0.017544\n",
      "Name: Albanian, dtype: float64\n",
      "1    0.017544\n",
      "Name: Bulgarian, dtype: float64\n",
      "1    0.017544\n",
      "Name: Burmese, dtype: float64\n",
      "1    0.017544\n",
      "Name: Pulaar, dtype: float64\n",
      "1    0.017544\n",
      "Name: Somali, dtype: float64\n"
     ]
    },
    {
     "name": "stderr",
     "output_type": "stream",
     "text": [
      "/var/folders/32/14wzkv1d38q3fxdwkkhh_dcr0000gn/T/ipykernel_3963/266670005.py:27: FutureWarning: Calling float on a single element Series is deprecated and will raise a TypeError in the future. Use float(ser.iloc[0]) instead\n",
      "  ourHomePercents.append(float(ourHome[lang]))\n"
     ]
    },
    {
     "data": {
      "image/png": "[encoded data removed]",
      "text/plain": [
       "<Figure size 640x480 with 1 Axes>"
      ]
     },
     "metadata": {},
     "output_type": "display_data"
    }
   ],
   "source": [
    "# percents of the langs spoken at home from admissions data\n",
    "homePercents = []\n",
    "for x in homeCounts:\n",
    "    homePercents.append(float(x)/totalHomeLangs)\n",
    "\n",
    "#plt.pie(homePercents,labels=uniqueLangs)\n",
    "#plt.show()\n",
    "\n",
    "# percents of langs spoken at home from our data\n",
    "ourHome = pd.read_csv(\"percentData.csv\")\n",
    "ourHome = ourHome[ourHome[\"LANGUAGE\"]==\"What language do you speak at home?\"]\n",
    "\n",
    "# \n",
    "ourHomeLangs = ourHome.columns[1:]\n",
    "allLangs = list(uniqueLangs)\n",
    "for lang in ourHomeLangs:\n",
    "    if(ourHome[lang].values[0]!=0):\n",
    "        print(ourHome[lang])\n",
    "        if lang not in allLangs:\n",
    "            allLangs.append(lang)\n",
    "\n",
    "for i in range(len(allLangs)-len(uniqueLangs)):\n",
    "    homePercents.append(0)\n",
    "ourHomePercents = []\n",
    "for lang in allLangs:\n",
    "    try:\n",
    "        ourHomePercents.append(float(ourHome[lang]))\n",
    "    except:\n",
    "        ourHomePercents.append(0)\n",
    "\n",
    "x_axis = np.arange(len(allLangs))\n",
    "plt.bar(x_axis-0.25,homePercents,label=\"Admissions\",width=0.5)\n",
    "plt.bar(x_axis+0.25,ourHomePercents,label=\"Ours\",width=0.5)\n",
    "plt.xticks(x_axis,allLangs,rotation=90,fontsize=5)\n",
    "plt.subplots_adjust(bottom=0.5)\n",
    "plt.legend()\n",
    "plt.show()"
   ]
  },
  {
   "cell_type": "code",
   "execution_count": 8,
   "metadata": {},
   "outputs": [
    {
     "data": {
      "text/plain": [
       "Admit Term\n",
       "Fall 2021    615\n",
       "Fall 2022    605\n",
       "Fall 2024    604\n",
       "Fall 2020    592\n",
       "Fall 2023    589\n",
       "Name: count, dtype: int64"
      ]
     },
     "execution_count": 8,
     "metadata": {},
     "output_type": "execute_result"
    }
   ],
   "source": [
    "data[\"Admit Term\"].value_counts()"
   ]
  },
  {
   "cell_type": "code",
   "execution_count": null,
   "metadata": {},
   "outputs": [],
   "source": []
  }
 ],
 "metadata": {
  "kernelspec": {
   "display_name": ".venv",
   "language": "python",
   "name": "python3"
  },
  "language_info": {
   "codemirror_mode": {
    "name": "ipython",
    "version": 3
   },
   "file_extension": ".py",
   "mimetype": "text/x-python",
   "name": "python",
   "nbconvert_exporter": "python",
   "pygments_lexer": "ipython3",
   "version": "3.12.3"
  }
 },
 "nbformat": 4,
 "nbformat_minor": 2
}
